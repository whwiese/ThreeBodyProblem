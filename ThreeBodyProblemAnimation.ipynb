{
 "cells": [
  {
   "cell_type": "code",
   "execution_count": 1,
   "metadata": {},
   "outputs": [
    {
     "data": {
      "text/html": [
       "<div id=\"glowscript\" class=\"glowscript\"></div>"
      ],
      "text/plain": [
       "<IPython.core.display.HTML object>"
      ]
     },
     "metadata": {},
     "output_type": "display_data"
    },
    {
     "data": {
      "application/javascript": [
       "if (typeof Jupyter !== \"undefined\") { window.__context = { glowscript_container: $(\"#glowscript\").removeAttr(\"id\")};}else{ element.textContent = ' ';}"
      ],
      "text/plain": [
       "<IPython.core.display.Javascript object>"
      ]
     },
     "metadata": {},
     "output_type": "display_data"
    },
    {
     "data": {
      "application/javascript": [
       "if (typeof Jupyter !== \"undefined\") {require.undef(\"nbextensions/vpython_libraries/glow.min\");}else{element.textContent = ' ';}"
      ],
      "text/plain": [
       "<IPython.core.display.Javascript object>"
      ]
     },
     "metadata": {},
     "output_type": "display_data"
    },
    {
     "data": {
      "application/javascript": [
       "if (typeof Jupyter !== \"undefined\") {require.undef(\"nbextensions/vpython_libraries/glowcomm\");}else{element.textContent = ' ';}"
      ],
      "text/plain": [
       "<IPython.core.display.Javascript object>"
      ]
     },
     "metadata": {},
     "output_type": "display_data"
    },
    {
     "data": {
      "application/javascript": [
       "if (typeof Jupyter !== \"undefined\") {require.undef(\"nbextensions/vpython_libraries/jquery-ui.custom.min\");}else{element.textContent = ' ';}"
      ],
      "text/plain": [
       "<IPython.core.display.Javascript object>"
      ]
     },
     "metadata": {},
     "output_type": "display_data"
    },
    {
     "data": {
      "application/javascript": [
       "if (typeof Jupyter !== \"undefined\") {require([\"nbextensions/vpython_libraries/glow.min\"], function(){console.log(\"GLOW LOADED\");});}else{element.textContent = ' ';}"
      ],
      "text/plain": [
       "<IPython.core.display.Javascript object>"
      ]
     },
     "metadata": {},
     "output_type": "display_data"
    },
    {
     "data": {
      "application/javascript": [
       "if (typeof Jupyter !== \"undefined\") {require([\"nbextensions/vpython_libraries/glowcomm\"], function(){console.log(\"GLOWCOMM LOADED\");});}else{element.textContent = ' ';}"
      ],
      "text/plain": [
       "<IPython.core.display.Javascript object>"
      ]
     },
     "metadata": {},
     "output_type": "display_data"
    },
    {
     "data": {
      "application/javascript": [
       "if (typeof Jupyter !== \"undefined\") {require([\"nbextensions/vpython_libraries/jquery-ui.custom.min\"], function(){console.log(\"JQUERY LOADED\");});}else{element.textContent = ' ';}"
      ],
      "text/plain": [
       "<IPython.core.display.Javascript object>"
      ]
     },
     "metadata": {},
     "output_type": "display_data"
    }
   ],
   "source": [
    "import numpy as np\n",
    "import vpython as vp\n",
    "\n",
    "# set a scene caption\n",
    "\n",
    "vp.scene.caption = \"Three Body Simulation\"\n",
    "\n",
    "# make the ball\n",
    "Sun = vp.sphere(pos=vp.vector(0, 0, 0), radius=10e8, color=vp.color.yellow, opacity=1.0, make_trail=True, retain=25, interval=25000000, trail_color=vp.color.red)\n",
    "Earth = vp.sphere(pos=vp.vector(149.6e9, 0, 0), radius=6.371e6, texture=vp.textures.earth, opacity=1.0, make_trail=True, retain=25000000, interval=2, trail_color=vp.color.red)\n",
    "Moon = vp.sphere(pos=vp.vector((384.4e6+149.6e9), 0, 0), radius=1.737e6, color=vp.color.white, opacity=1.0, make_trail=True, retain=25000000, interval=1, trail_color=vp.color.blue)\n",
    "\n",
    "#define derivative function\n",
    "def f(r,t):\n",
    "    #unpack arrays\n",
    "    x1=r[0]\n",
    "    vx1=r[1]\n",
    "    y1=r[2]\n",
    "    vy1=r[3]\n",
    "    z1=r[4]\n",
    "    vz1=r[5]\n",
    "    \n",
    "    x2=r[6]\n",
    "    vx2=r[7]\n",
    "    y2=r[8]\n",
    "    vy2=r[9]\n",
    "    z2=r[10]\n",
    "    vz2=r[11]\n",
    "    \n",
    "    x3=r[12]\n",
    "    vx3=r[13]\n",
    "    y3=r[14]\n",
    "    vy3=r[15]\n",
    "    z3=r[16]\n",
    "    vz3=r[17]\n",
    "    \n",
    "    #find distances between objects\n",
    "    d12 = np.sqrt((x1-x2)**2+(y1-y2)**2+(z1-z2)**2)\n",
    "    d13 = np.sqrt((x1-x3)**2+(y1-y3)**2+(z1-z3)**2)\n",
    "    d23 = np.sqrt((x2-x3)**2+(y2-y3)**2+(z2-z3)**2)\n",
    "    \n",
    "    # assign derivatives\n",
    "    fx1=vx1\n",
    "    fvx1 = -G*M2*(x1-x2)/d12**3-G*M3*(x1-x3)/d13**3\n",
    "    \n",
    "    fx2=vx2\n",
    "    fvx2 = -G*M3*(x2-x3)/d23**3-G*M1*(x2-x1)/d12**3\n",
    "    \n",
    "    fx3=vx3\n",
    "    fvx3 = -G*M1*(x3-x1)/d13**3-G*M2*(x3-x2)/d23**3\n",
    "    \n",
    "    fy1=vy1\n",
    "    fvy1 = -G*M2*(y1-y2)/d12**3-G*M3*(y1-y3)/d13**3\n",
    "    \n",
    "    fy2=vy2\n",
    "    fvy2 = -G*M3*(y2-y3)/d23**3-G*M1*(y2-y1)/d12**3\n",
    "    \n",
    "    fy3=vy3\n",
    "    fvy3 = -G*M1*(y3-y1)/d13**3-G*M2*(y3-y2)/d23**3\n",
    "    \n",
    "    fz1=vz1\n",
    "    fvz1 = -G*M2*(z1-z2)/d12**3-G*M3*(z1-z3)/d13**3\n",
    "    \n",
    "    fz2=vz2\n",
    "    fvz2 = -G*M3*(z2-z3)/d23**3-G*M1*(z2-z1)/d12**3\n",
    "    \n",
    "    fz3=vz3\n",
    "    fvz3 = -G*M1*(z3-z1)/d13**3-G*M2*(z3-z2)/d23**3\n",
    "\n",
    "    return np.array([fx1,fvx1,fy1,fvy1,fz1,fvz1,fx2,fvx2,fy2,fvy2,fz2,fvz2,fx3,fvx3,fy3,fvy3,fz3,fvz3])\n",
    "\n",
    "# Define RK4 algorithm with error estimate\n",
    "def RK4_adaptive(f, r1, t1, t2, dt=0.1, err_tol=3.171e-5):\n",
    "\n",
    "    # Define initial condition\n",
    "    r = r1.copy()\n",
    "\n",
    "    # define a function for RK4 update\n",
    "    def rk4_update(r, t, dt):\n",
    "        # update value using RK4\n",
    "        k1 = dt * f(r, t)\n",
    "        k2 = dt * f(r+0.5*k1, t+0.5*dt)\n",
    "        k3 = dt * f(r+0.5*k2, t+0.5*dt)\n",
    "        k4 = dt * f(r+k3, t+dt)\n",
    "        return r + (k1 + 2*k2 + 2*k3 + k4)/6.0\n",
    "        \n",
    "    # Iterate RK4 Method\n",
    "    t = t1\n",
    "    x1points = []\n",
    "    y1points = []\n",
    "    z1points = []\n",
    "    \n",
    "    x2points = []\n",
    "    y2points = []\n",
    "    z2points = []\n",
    "    \n",
    "    x3points = []\n",
    "    y3points = []\n",
    "    z3points = []\n",
    "    \n",
    "    tpoints = []\n",
    "    while t <= t2:\n",
    "        \n",
    "        # append value of x to xpoints\n",
    "        vp.rate(250)\n",
    "        Sun.pos = vp.vector(r[0],r[2],r[4])\n",
    "        Earth.pos = vp.vector(r[6],r[8],r[10])\n",
    "        Moon.pos = vp.vector(r[12],r[14],r[16])\n",
    "    \n",
    "        x1points.append(r[0])\n",
    "        y1points.append(r[2])\n",
    "        z1points.append(r[4])\n",
    "        \n",
    "        x2points.append(r[6])\n",
    "        y2points.append(r[8])\n",
    "        z2points.append(r[10])\n",
    "        \n",
    "        x3points.append(r[12])\n",
    "        y3points.append(r[14])\n",
    "        z3points.append(r[16])\n",
    "        \n",
    "        tpoints.append(t)\n",
    "\n",
    "        # Enter error tolerance loop\n",
    "        while True:\n",
    "            ## Calculate estimated error ##\n",
    "            # double step\n",
    "            r1_a = rk4_update(r, t, dt).copy()\n",
    "            r1 = rk4_update(r1_a, t+dt, dt).copy()\n",
    "            # big step\n",
    "            r2 = rk4_update(r, t, 2*dt).copy()\n",
    "\n",
    "            # calculate total error\n",
    "            eps1_x = np.abs(r1[0] - r2[0])/30.0\n",
    "            eps1_y = np.abs(r1[2] - r2[2])/30.0\n",
    "            eps1_z = np.abs(r1[4] - r2[4])/30.0\n",
    "            eps1_tot = np.sqrt(eps1_x**2 + eps1_y**2 + eps1_z**2)\n",
    "            \n",
    "            eps2_x = np.abs(r1[6] - r2[6])/30.0\n",
    "            eps2_y = np.abs(r1[8] - r2[8])/30.0\n",
    "            eps2_z = np.abs(r1[10] - r2[10])/30.0\n",
    "            eps2_tot = np.sqrt(eps2_x**2 + eps2_y**2 + eps2_z**2)\n",
    "            \n",
    "            eps3_x = np.abs(r1[12] - r2[12])/30.0\n",
    "            eps3_y = np.abs(r1[14] - r2[14])/30.0\n",
    "            eps3_z = np.abs(r1[16] - r2[16])/30.0\n",
    "            eps3_tot = np.sqrt(eps3_x**2 + eps3_y**2 + eps3_z**2)\n",
    "            \n",
    "            if eps3_tot >= eps2_tot and eps3_tot > eps1_tot:\n",
    "                eps_tot = eps3_tot\n",
    "                \n",
    "            elif eps2_tot >= eps1_tot and eps2_tot > eps3_tot:\n",
    "                eps_tot = eps2_tot\n",
    "                \n",
    "            else:\n",
    "                eps_tot = eps1_tot\n",
    "                \n",
    "            # calculate rho\n",
    "            if eps_tot == 0:\n",
    "                rho = 1.0\n",
    "            else:\n",
    "                rho = (dt*err_tol/eps_tot)**(1./4)\n",
    "            \n",
    "            # evaluate ideal step size\n",
    "            if rho >= 1.0:\n",
    "                if rho >= 2.0:\n",
    "                    rho = 2.0\n",
    "                break\n",
    "            else:\n",
    "                if rho < 0.5:\n",
    "                    rho = 0.5\n",
    "                dt *= 0.99*rho\n",
    "                \n",
    "        # update dt\n",
    "        dt *= 0.99*rho\n",
    "        \n",
    "        # update r to the single step\n",
    "        r = r1_a.copy()\n",
    "        \n",
    "        # update t\n",
    "        t += dt\n",
    "        \n",
    "    x1points = np.array(x1points)\n",
    "    y1points = np.array(y1points)\n",
    "    z1points = np.array(z1points)\n",
    "    \n",
    "    x2points = np.array(x2points)\n",
    "    y2points = np.array(y2points)\n",
    "    z2points = np.array(z2points)\n",
    "    \n",
    "    x3points = np.array(x3points)\n",
    "    y3points = np.array(y3points)\n",
    "    z3points = np.array(z3points)\n",
    "    \n",
    "    tpoints = np.array(tpoints)\n",
    "    \n",
    "    return tpoints, x1points, y1points, z1points, x2points, y2points, z2points, x3points, y3points, z3points\n",
    "\n",
    "\n",
    "\n",
    "if __name__ == \"__main__\":\n",
    "\n",
    "    # initial conditions\n",
    "    G = 6.67e-11\n",
    "    M1 = 1.989e30\n",
    "    M2 = 5.972e24\n",
    "    M3 = 7.34767309e22\n",
    "    r1 = np.array([0,0,0,0,0,0,149.6e9,0,0,3.0e4,0,0,(384.4e6+149.6e9),0,0,3.1e4,0,0], dtype=np.float)\n",
    "\n",
    "    # run solver\n",
    "    tpoints, x1points, y1points, z1points, x2points, y2points, z2points, x3points, y3points, z3points = RK4_adaptive(f, r1, 0, 6.307e7, dt=1.0e4, err_tol=30.171e-5)"
   ]
  },
  {
   "cell_type": "code",
   "execution_count": 1,
   "metadata": {},
   "outputs": [
    {
     "data": {
      "text/html": [
       "<div id=\"glowscript\" class=\"glowscript\"></div>"
      ],
      "text/plain": [
       "<IPython.core.display.HTML object>"
      ]
     },
     "metadata": {},
     "output_type": "display_data"
    },
    {
     "data": {
      "application/javascript": [
       "if (typeof Jupyter !== \"undefined\") { window.__context = { glowscript_container: $(\"#glowscript\").removeAttr(\"id\")};}else{ element.textContent = ' ';}"
      ],
      "text/plain": [
       "<IPython.core.display.Javascript object>"
      ]
     },
     "metadata": {},
     "output_type": "display_data"
    },
    {
     "data": {
      "application/javascript": [
       "if (typeof Jupyter !== \"undefined\") {require.undef(\"nbextensions/vpython_libraries/glow.min\");}else{element.textContent = ' ';}"
      ],
      "text/plain": [
       "<IPython.core.display.Javascript object>"
      ]
     },
     "metadata": {},
     "output_type": "display_data"
    },
    {
     "data": {
      "application/javascript": [
       "if (typeof Jupyter !== \"undefined\") {require.undef(\"nbextensions/vpython_libraries/glowcomm\");}else{element.textContent = ' ';}"
      ],
      "text/plain": [
       "<IPython.core.display.Javascript object>"
      ]
     },
     "metadata": {},
     "output_type": "display_data"
    },
    {
     "data": {
      "application/javascript": [
       "if (typeof Jupyter !== \"undefined\") {require.undef(\"nbextensions/vpython_libraries/jquery-ui.custom.min\");}else{element.textContent = ' ';}"
      ],
      "text/plain": [
       "<IPython.core.display.Javascript object>"
      ]
     },
     "metadata": {},
     "output_type": "display_data"
    },
    {
     "data": {
      "application/javascript": [
       "if (typeof Jupyter !== \"undefined\") {require([\"nbextensions/vpython_libraries/glow.min\"], function(){console.log(\"GLOW LOADED\");});}else{element.textContent = ' ';}"
      ],
      "text/plain": [
       "<IPython.core.display.Javascript object>"
      ]
     },
     "metadata": {},
     "output_type": "display_data"
    },
    {
     "data": {
      "application/javascript": [
       "if (typeof Jupyter !== \"undefined\") {require([\"nbextensions/vpython_libraries/glowcomm\"], function(){console.log(\"GLOWCOMM LOADED\");});}else{element.textContent = ' ';}"
      ],
      "text/plain": [
       "<IPython.core.display.Javascript object>"
      ]
     },
     "metadata": {},
     "output_type": "display_data"
    },
    {
     "data": {
      "application/javascript": [
       "if (typeof Jupyter !== \"undefined\") {require([\"nbextensions/vpython_libraries/jquery-ui.custom.min\"], function(){console.log(\"JQUERY LOADED\");});}else{element.textContent = ' ';}"
      ],
      "text/plain": [
       "<IPython.core.display.Javascript object>"
      ]
     },
     "metadata": {},
     "output_type": "display_data"
    },
    {
     "ename": "KeyboardInterrupt",
     "evalue": "",
     "output_type": "error",
     "traceback": [
      "\u001b[0;31m---------------------------------------------------------------------------\u001b[0m",
      "\u001b[0;31mKeyboardInterrupt\u001b[0m                         Traceback (most recent call last)",
      "\u001b[0;32m<ipython-input-1-5b9f4baecbba>\u001b[0m in \u001b[0;36m<module>\u001b[0;34m\u001b[0m\n\u001b[1;32m    208\u001b[0m \u001b[0;34m\u001b[0m\u001b[0m\n\u001b[1;32m    209\u001b[0m     \u001b[0;31m# run solver\u001b[0m\u001b[0;34m\u001b[0m\u001b[0;34m\u001b[0m\u001b[0;34m\u001b[0m\u001b[0m\n\u001b[0;32m--> 210\u001b[0;31m     \u001b[0mtpoints\u001b[0m\u001b[0;34m,\u001b[0m \u001b[0mx1points\u001b[0m\u001b[0;34m,\u001b[0m \u001b[0my1points\u001b[0m\u001b[0;34m,\u001b[0m \u001b[0mz1points\u001b[0m\u001b[0;34m,\u001b[0m \u001b[0mx2points\u001b[0m\u001b[0;34m,\u001b[0m \u001b[0my2points\u001b[0m\u001b[0;34m,\u001b[0m \u001b[0mz2points\u001b[0m\u001b[0;34m,\u001b[0m \u001b[0mx3points\u001b[0m\u001b[0;34m,\u001b[0m \u001b[0my3points\u001b[0m\u001b[0;34m,\u001b[0m \u001b[0mz3points\u001b[0m \u001b[0;34m=\u001b[0m \u001b[0mRK4_adaptive\u001b[0m\u001b[0;34m(\u001b[0m\u001b[0mf\u001b[0m\u001b[0;34m,\u001b[0m \u001b[0mr1\u001b[0m\u001b[0;34m,\u001b[0m \u001b[0;36m0\u001b[0m\u001b[0;34m,\u001b[0m \u001b[0;36m6.307e10\u001b[0m\u001b[0;34m,\u001b[0m \u001b[0mdt\u001b[0m\u001b[0;34m=\u001b[0m\u001b[0;36m1.0e4\u001b[0m\u001b[0;34m,\u001b[0m \u001b[0merr_tol\u001b[0m\u001b[0;34m=\u001b[0m\u001b[0;36m30.171e-5\u001b[0m\u001b[0;34m)\u001b[0m\u001b[0;34m\u001b[0m\u001b[0;34m\u001b[0m\u001b[0m\n\u001b[0m",
      "\u001b[0;32m<ipython-input-1-5b9f4baecbba>\u001b[0m in \u001b[0;36mRK4_adaptive\u001b[0;34m(f, r1, t1, t2, dt, err_tol)\u001b[0m\n\u001b[1;32m    126\u001b[0m             \u001b[0;31m# double step\u001b[0m\u001b[0;34m\u001b[0m\u001b[0;34m\u001b[0m\u001b[0;34m\u001b[0m\u001b[0m\n\u001b[1;32m    127\u001b[0m             \u001b[0mr1_a\u001b[0m \u001b[0;34m=\u001b[0m \u001b[0mrk4_update\u001b[0m\u001b[0;34m(\u001b[0m\u001b[0mr\u001b[0m\u001b[0;34m,\u001b[0m \u001b[0mt\u001b[0m\u001b[0;34m,\u001b[0m \u001b[0mdt\u001b[0m\u001b[0;34m)\u001b[0m\u001b[0;34m.\u001b[0m\u001b[0mcopy\u001b[0m\u001b[0;34m(\u001b[0m\u001b[0;34m)\u001b[0m\u001b[0;34m\u001b[0m\u001b[0;34m\u001b[0m\u001b[0m\n\u001b[0;32m--> 128\u001b[0;31m             \u001b[0mr1\u001b[0m \u001b[0;34m=\u001b[0m \u001b[0mrk4_update\u001b[0m\u001b[0;34m(\u001b[0m\u001b[0mr1_a\u001b[0m\u001b[0;34m,\u001b[0m \u001b[0mt\u001b[0m\u001b[0;34m+\u001b[0m\u001b[0mdt\u001b[0m\u001b[0;34m,\u001b[0m \u001b[0mdt\u001b[0m\u001b[0;34m)\u001b[0m\u001b[0;34m.\u001b[0m\u001b[0mcopy\u001b[0m\u001b[0;34m(\u001b[0m\u001b[0;34m)\u001b[0m\u001b[0;34m\u001b[0m\u001b[0;34m\u001b[0m\u001b[0m\n\u001b[0m\u001b[1;32m    129\u001b[0m             \u001b[0;31m# big step\u001b[0m\u001b[0;34m\u001b[0m\u001b[0;34m\u001b[0m\u001b[0;34m\u001b[0m\u001b[0m\n\u001b[1;32m    130\u001b[0m             \u001b[0mr2\u001b[0m \u001b[0;34m=\u001b[0m \u001b[0mrk4_update\u001b[0m\u001b[0;34m(\u001b[0m\u001b[0mr\u001b[0m\u001b[0;34m,\u001b[0m \u001b[0mt\u001b[0m\u001b[0;34m,\u001b[0m \u001b[0;36m2\u001b[0m\u001b[0;34m*\u001b[0m\u001b[0mdt\u001b[0m\u001b[0;34m)\u001b[0m\u001b[0;34m.\u001b[0m\u001b[0mcopy\u001b[0m\u001b[0;34m(\u001b[0m\u001b[0;34m)\u001b[0m\u001b[0;34m\u001b[0m\u001b[0;34m\u001b[0m\u001b[0m\n",
      "\u001b[0;32m<ipython-input-1-5b9f4baecbba>\u001b[0m in \u001b[0;36mrk4_update\u001b[0;34m(r, t, dt)\u001b[0m\n\u001b[1;32m     80\u001b[0m         \u001b[0mk1\u001b[0m \u001b[0;34m=\u001b[0m \u001b[0mdt\u001b[0m \u001b[0;34m*\u001b[0m \u001b[0mf\u001b[0m\u001b[0;34m(\u001b[0m\u001b[0mr\u001b[0m\u001b[0;34m,\u001b[0m \u001b[0mt\u001b[0m\u001b[0;34m)\u001b[0m\u001b[0;34m\u001b[0m\u001b[0;34m\u001b[0m\u001b[0m\n\u001b[1;32m     81\u001b[0m         \u001b[0mk2\u001b[0m \u001b[0;34m=\u001b[0m \u001b[0mdt\u001b[0m \u001b[0;34m*\u001b[0m \u001b[0mf\u001b[0m\u001b[0;34m(\u001b[0m\u001b[0mr\u001b[0m\u001b[0;34m+\u001b[0m\u001b[0;36m0.5\u001b[0m\u001b[0;34m*\u001b[0m\u001b[0mk1\u001b[0m\u001b[0;34m,\u001b[0m \u001b[0mt\u001b[0m\u001b[0;34m+\u001b[0m\u001b[0;36m0.5\u001b[0m\u001b[0;34m*\u001b[0m\u001b[0mdt\u001b[0m\u001b[0;34m)\u001b[0m\u001b[0;34m\u001b[0m\u001b[0;34m\u001b[0m\u001b[0m\n\u001b[0;32m---> 82\u001b[0;31m         \u001b[0mk3\u001b[0m \u001b[0;34m=\u001b[0m \u001b[0mdt\u001b[0m \u001b[0;34m*\u001b[0m \u001b[0mf\u001b[0m\u001b[0;34m(\u001b[0m\u001b[0mr\u001b[0m\u001b[0;34m+\u001b[0m\u001b[0;36m0.5\u001b[0m\u001b[0;34m*\u001b[0m\u001b[0mk2\u001b[0m\u001b[0;34m,\u001b[0m \u001b[0mt\u001b[0m\u001b[0;34m+\u001b[0m\u001b[0;36m0.5\u001b[0m\u001b[0;34m*\u001b[0m\u001b[0mdt\u001b[0m\u001b[0;34m)\u001b[0m\u001b[0;34m\u001b[0m\u001b[0;34m\u001b[0m\u001b[0m\n\u001b[0m\u001b[1;32m     83\u001b[0m         \u001b[0mk4\u001b[0m \u001b[0;34m=\u001b[0m \u001b[0mdt\u001b[0m \u001b[0;34m*\u001b[0m \u001b[0mf\u001b[0m\u001b[0;34m(\u001b[0m\u001b[0mr\u001b[0m\u001b[0;34m+\u001b[0m\u001b[0mk3\u001b[0m\u001b[0;34m,\u001b[0m \u001b[0mt\u001b[0m\u001b[0;34m+\u001b[0m\u001b[0mdt\u001b[0m\u001b[0;34m)\u001b[0m\u001b[0;34m\u001b[0m\u001b[0;34m\u001b[0m\u001b[0m\n\u001b[1;32m     84\u001b[0m         \u001b[0;32mreturn\u001b[0m \u001b[0mr\u001b[0m \u001b[0;34m+\u001b[0m \u001b[0;34m(\u001b[0m\u001b[0mk1\u001b[0m \u001b[0;34m+\u001b[0m \u001b[0;36m2\u001b[0m\u001b[0;34m*\u001b[0m\u001b[0mk2\u001b[0m \u001b[0;34m+\u001b[0m \u001b[0;36m2\u001b[0m\u001b[0;34m*\u001b[0m\u001b[0mk3\u001b[0m \u001b[0;34m+\u001b[0m \u001b[0mk4\u001b[0m\u001b[0;34m)\u001b[0m\u001b[0;34m/\u001b[0m\u001b[0;36m6.0\u001b[0m\u001b[0;34m\u001b[0m\u001b[0;34m\u001b[0m\u001b[0m\n",
      "\u001b[0;32m<ipython-input-1-5b9f4baecbba>\u001b[0m in \u001b[0;36mf\u001b[0;34m(r, t)\u001b[0m\n\u001b[1;32m     36\u001b[0m     \u001b[0;31m#find distances between objects\u001b[0m\u001b[0;34m\u001b[0m\u001b[0;34m\u001b[0m\u001b[0;34m\u001b[0m\u001b[0m\n\u001b[1;32m     37\u001b[0m     \u001b[0md12\u001b[0m \u001b[0;34m=\u001b[0m \u001b[0mnp\u001b[0m\u001b[0;34m.\u001b[0m\u001b[0msqrt\u001b[0m\u001b[0;34m(\u001b[0m\u001b[0;34m(\u001b[0m\u001b[0mx1\u001b[0m\u001b[0;34m-\u001b[0m\u001b[0mx2\u001b[0m\u001b[0;34m)\u001b[0m\u001b[0;34m**\u001b[0m\u001b[0;36m2\u001b[0m\u001b[0;34m+\u001b[0m\u001b[0;34m(\u001b[0m\u001b[0my1\u001b[0m\u001b[0;34m-\u001b[0m\u001b[0my2\u001b[0m\u001b[0;34m)\u001b[0m\u001b[0;34m**\u001b[0m\u001b[0;36m2\u001b[0m\u001b[0;34m+\u001b[0m\u001b[0;34m(\u001b[0m\u001b[0mz1\u001b[0m\u001b[0;34m-\u001b[0m\u001b[0mz2\u001b[0m\u001b[0;34m)\u001b[0m\u001b[0;34m**\u001b[0m\u001b[0;36m2\u001b[0m\u001b[0;34m)\u001b[0m\u001b[0;34m\u001b[0m\u001b[0;34m\u001b[0m\u001b[0m\n\u001b[0;32m---> 38\u001b[0;31m     \u001b[0md13\u001b[0m \u001b[0;34m=\u001b[0m \u001b[0mnp\u001b[0m\u001b[0;34m.\u001b[0m\u001b[0msqrt\u001b[0m\u001b[0;34m(\u001b[0m\u001b[0;34m(\u001b[0m\u001b[0mx1\u001b[0m\u001b[0;34m-\u001b[0m\u001b[0mx3\u001b[0m\u001b[0;34m)\u001b[0m\u001b[0;34m**\u001b[0m\u001b[0;36m2\u001b[0m\u001b[0;34m+\u001b[0m\u001b[0;34m(\u001b[0m\u001b[0my1\u001b[0m\u001b[0;34m-\u001b[0m\u001b[0my3\u001b[0m\u001b[0;34m)\u001b[0m\u001b[0;34m**\u001b[0m\u001b[0;36m2\u001b[0m\u001b[0;34m+\u001b[0m\u001b[0;34m(\u001b[0m\u001b[0mz1\u001b[0m\u001b[0;34m-\u001b[0m\u001b[0mz3\u001b[0m\u001b[0;34m)\u001b[0m\u001b[0;34m**\u001b[0m\u001b[0;36m2\u001b[0m\u001b[0;34m)\u001b[0m\u001b[0;34m\u001b[0m\u001b[0;34m\u001b[0m\u001b[0m\n\u001b[0m\u001b[1;32m     39\u001b[0m     \u001b[0md23\u001b[0m \u001b[0;34m=\u001b[0m \u001b[0mnp\u001b[0m\u001b[0;34m.\u001b[0m\u001b[0msqrt\u001b[0m\u001b[0;34m(\u001b[0m\u001b[0;34m(\u001b[0m\u001b[0mx2\u001b[0m\u001b[0;34m-\u001b[0m\u001b[0mx3\u001b[0m\u001b[0;34m)\u001b[0m\u001b[0;34m**\u001b[0m\u001b[0;36m2\u001b[0m\u001b[0;34m+\u001b[0m\u001b[0;34m(\u001b[0m\u001b[0my2\u001b[0m\u001b[0;34m-\u001b[0m\u001b[0my3\u001b[0m\u001b[0;34m)\u001b[0m\u001b[0;34m**\u001b[0m\u001b[0;36m2\u001b[0m\u001b[0;34m+\u001b[0m\u001b[0;34m(\u001b[0m\u001b[0mz2\u001b[0m\u001b[0;34m-\u001b[0m\u001b[0mz3\u001b[0m\u001b[0;34m)\u001b[0m\u001b[0;34m**\u001b[0m\u001b[0;36m2\u001b[0m\u001b[0;34m)\u001b[0m\u001b[0;34m\u001b[0m\u001b[0;34m\u001b[0m\u001b[0m\n\u001b[1;32m     40\u001b[0m \u001b[0;34m\u001b[0m\u001b[0m\n",
      "\u001b[0;31mKeyboardInterrupt\u001b[0m: "
     ]
    }
   ],
   "source": [
    "import numpy as np\n",
    "import vpython as vp\n",
    "\n",
    "# set a scene caption\n",
    "vp.scene.caption = \"Three Body Simulation\"\n",
    "\n",
    "# make the ball\n",
    "Star1 = vp.sphere(pos=vp.vector(-1.496e11, 0, 0), radius=10e8, color=vp.color.yellow, opacity=1.0, make_trail=True, retain=2500, interval=2, trail_color=vp.color.red)\n",
    "Star2 = vp.sphere(pos=vp.vector(1.496e11, 0, 0), radius=10e8, texture=vp.textures.earth, opacity=1.0, make_trail=True, retain=2500, interval=2, trail_color=vp.color.yellow)\n",
    "Planet = vp.sphere(pos=vp.vector(0, 4*(1.496e11), 0), radius=1.737e6, color=vp.color.white, opacity=1.0, make_trail=True, retain=2500, interval=1, trail_color=vp.color.blue)\n",
    "\n",
    "#define derivative function\n",
    "def f(r,t):\n",
    "    #unpack arrays\n",
    "    x1=r[0]\n",
    "    vx1=r[1]\n",
    "    y1=r[2]\n",
    "    vy1=r[3]\n",
    "    z1=r[4]\n",
    "    vz1=r[5]\n",
    "    \n",
    "    x2=r[6]\n",
    "    vx2=r[7]\n",
    "    y2=r[8]\n",
    "    vy2=r[9]\n",
    "    z2=r[10]\n",
    "    vz2=r[11]\n",
    "    \n",
    "    x3=r[12]\n",
    "    vx3=r[13]\n",
    "    y3=r[14]\n",
    "    vy3=r[15]\n",
    "    z3=r[16]\n",
    "    vz3=r[17]\n",
    "    \n",
    "    #find distances between objects\n",
    "    d12 = np.sqrt((x1-x2)**2+(y1-y2)**2+(z1-z2)**2)\n",
    "    d13 = np.sqrt((x1-x3)**2+(y1-y3)**2+(z1-z3)**2)\n",
    "    d23 = np.sqrt((x2-x3)**2+(y2-y3)**2+(z2-z3)**2)\n",
    "    \n",
    "    # assign derivatives\n",
    "    fx1=vx1\n",
    "    fvx1 = -G*M2*(x1-x2)/d12**3-G*M3*(x1-x3)/d13**3\n",
    "    \n",
    "    fx2=vx2\n",
    "    fvx2 = -G*M3*(x2-x3)/d23**3-G*M1*(x2-x1)/d12**3\n",
    "    \n",
    "    fx3=vx3\n",
    "    fvx3 = -G*M1*(x3-x1)/d13**3-G*M2*(x3-x2)/d23**3\n",
    "    \n",
    "    fy1=vy1\n",
    "    fvy1 = -G*M2*(y1-y2)/d12**3-G*M3*(y1-y3)/d13**3\n",
    "    \n",
    "    fy2=vy2\n",
    "    fvy2 = -G*M3*(y2-y3)/d23**3-G*M1*(y2-y1)/d12**3\n",
    "    \n",
    "    fy3=vy3\n",
    "    fvy3 = -G*M1*(y3-y1)/d13**3-G*M2*(y3-y2)/d23**3\n",
    "    \n",
    "    fz1=vz1\n",
    "    fvz1 = -G*M2*(z1-z2)/d12**3-G*M3*(z1-z3)/d13**3\n",
    "    \n",
    "    fz2=vz2\n",
    "    fvz2 = -G*M3*(z2-z3)/d23**3-G*M1*(z2-z1)/d12**3\n",
    "    \n",
    "    fz3=vz3\n",
    "    fvz3 = -G*M1*(z3-z1)/d13**3-G*M2*(z3-z2)/d23**3\n",
    "\n",
    "    return np.array([fx1,fvx1,fy1,fvy1,fz1,fvz1,fx2,fvx2,fy2,fvy2,fz2,fvz2,fx3,fvx3,fy3,fvy3,fz3,fvz3])\n",
    "\n",
    "# Define RK4 algorithm with error estimate\n",
    "def RK4_adaptive(f, r1, t1, t2, dt=0.1, err_tol=3.171e-5):\n",
    "\n",
    "    # Define initial condition\n",
    "    r = r1.copy()\n",
    "\n",
    "    # define a function for RK4 update\n",
    "    def rk4_update(r, t, dt):\n",
    "        # update value using RK4\n",
    "        k1 = dt * f(r, t)\n",
    "        k2 = dt * f(r+0.5*k1, t+0.5*dt)\n",
    "        k3 = dt * f(r+0.5*k2, t+0.5*dt)\n",
    "        k4 = dt * f(r+k3, t+dt)\n",
    "        return r + (k1 + 2*k2 + 2*k3 + k4)/6.0\n",
    "        \n",
    "    # Iterate RK4 Method\n",
    "    t = t1\n",
    "    x1points = []\n",
    "    y1points = []\n",
    "    z1points = []\n",
    "    \n",
    "    x2points = []\n",
    "    y2points = []\n",
    "    z2points = []\n",
    "    \n",
    "    x3points = []\n",
    "    y3points = []\n",
    "    z3points = []\n",
    "    \n",
    "    tpoints = []\n",
    "    while t <= t2:\n",
    "        \n",
    "        # append value of x to xpoints\n",
    "        vp.rate(250)\n",
    "        Star1.pos = vp.vector(r[0],r[2],r[4])\n",
    "        Star2.pos = vp.vector(r[6],r[8],r[10])\n",
    "        Planet.pos = vp.vector(r[12],r[14],r[16])\n",
    "    \n",
    "        x1points.append(r[0])\n",
    "        y1points.append(r[2])\n",
    "        z1points.append(r[4])\n",
    "        \n",
    "        x2points.append(r[6])\n",
    "        y2points.append(r[8])\n",
    "        z2points.append(r[10])\n",
    "        \n",
    "        x3points.append(r[12])\n",
    "        y3points.append(r[14])\n",
    "        z3points.append(r[16])\n",
    "        \n",
    "        tpoints.append(t)\n",
    "\n",
    "        # Enter error tolerance loop\n",
    "        while True:\n",
    "            ## Calculate estimated error ##\n",
    "            # double step\n",
    "            r1_a = rk4_update(r, t, dt).copy()\n",
    "            r1 = rk4_update(r1_a, t+dt, dt).copy()\n",
    "            # big step\n",
    "            r2 = rk4_update(r, t, 2*dt).copy()\n",
    "\n",
    "            # calculate total error\n",
    "            eps1_x = np.abs(r1[0] - r2[0])/30.0\n",
    "            eps1_y = np.abs(r1[2] - r2[2])/30.0\n",
    "            eps1_z = np.abs(r1[4] - r2[4])/30.0\n",
    "            eps1_tot = np.sqrt(eps1_x**2 + eps1_y**2 + eps1_z**2)\n",
    "            \n",
    "            eps2_x = np.abs(r1[6] - r2[6])/30.0\n",
    "            eps2_y = np.abs(r1[8] - r2[8])/30.0\n",
    "            eps2_z = np.abs(r1[10] - r2[10])/30.0\n",
    "            eps2_tot = np.sqrt(eps2_x**2 + eps2_y**2 + eps2_z**2)\n",
    "            \n",
    "            eps3_x = np.abs(r1[12] - r2[12])/30.0\n",
    "            eps3_y = np.abs(r1[14] - r2[14])/30.0\n",
    "            eps3_z = np.abs(r1[16] - r2[16])/30.0\n",
    "            eps3_tot = np.sqrt(eps3_x**2 + eps3_y**2 + eps3_z**2)\n",
    "            \n",
    "            if eps3_tot >= eps2_tot and eps3_tot > eps1_tot:\n",
    "                eps_tot = eps3_tot\n",
    "                \n",
    "            elif eps2_tot >= eps1_tot and eps2_tot > eps3_tot:\n",
    "                eps_tot = eps2_tot\n",
    "                \n",
    "            else:\n",
    "                eps_tot = eps1_tot\n",
    "                \n",
    "            # calculate rho\n",
    "            if eps_tot == 0:\n",
    "                rho = 1.0\n",
    "            else:\n",
    "                rho = (dt*err_tol/eps_tot)**(1./4)\n",
    "            \n",
    "            # evaluate ideal step size\n",
    "            if rho >= 1.0:\n",
    "                if rho >= 2.0:\n",
    "                    rho = 2.0\n",
    "                break\n",
    "            else:\n",
    "                if rho < 0.5:\n",
    "                    rho = 0.5\n",
    "                dt *= 0.99*rho\n",
    "                \n",
    "        # update dt\n",
    "        dt *= 0.99*rho\n",
    "        \n",
    "        # update r to the single step\n",
    "        r = r1_a.copy()\n",
    "        \n",
    "        # update t\n",
    "        t += dt\n",
    "        \n",
    "    x1points = np.array(x1points)\n",
    "    y1points = np.array(y1points)\n",
    "    z1points = np.array(z1points)\n",
    "    \n",
    "    x2points = np.array(x2points)\n",
    "    y2points = np.array(y2points)\n",
    "    z2points = np.array(z2points)\n",
    "    \n",
    "    x3points = np.array(x3points)\n",
    "    y3points = np.array(y3points)\n",
    "    z3points = np.array(z3points)\n",
    "    \n",
    "    tpoints = np.array(tpoints)\n",
    "    \n",
    "    return tpoints, x1points, y1points, z1points, x2points, y2points, z2points, x3points, y3points, z3points\n",
    "\n",
    "\n",
    "\n",
    "if __name__ == \"__main__\":\n",
    "\n",
    "    # initial conditions\n",
    "    G = 6.67e-11\n",
    "    M1 = 1.989e30\n",
    "    M2 = 1.989e30\n",
    "    M3 = 5.972e24\n",
    "    r1 = np.array([-1.496e11,0,0,-1.0e4,0,0,1.496e11,0,0,1.0e4,0,0,0,3.0e4/np.sqrt(2),4*(1.496e11),0,0,0], dtype=np.float)\n",
    "\n",
    "    # run solver\n",
    "    tpoints, x1points, y1points, z1points, x2points, y2points, z2points, x3points, y3points, z3points = RK4_adaptive(f, r1, 0, 6.307e10, dt=1.0e4, err_tol=30.171e-5)"
   ]
  },
  {
   "cell_type": "code",
   "execution_count": null,
   "metadata": {},
   "outputs": [],
   "source": []
  },
  {
   "cell_type": "code",
   "execution_count": null,
   "metadata": {
    "collapsed": true,
    "jupyter": {
     "outputs_hidden": true
    }
   },
   "outputs": [],
   "source": []
  },
  {
   "cell_type": "code",
   "execution_count": null,
   "metadata": {},
   "outputs": [],
   "source": []
  }
 ],
 "metadata": {
  "kernelspec": {
   "display_name": "Python 3",
   "language": "python",
   "name": "python3"
  },
  "language_info": {
   "codemirror_mode": {
    "name": "ipython",
    "version": 3
   },
   "file_extension": ".py",
   "mimetype": "text/x-python",
   "name": "python",
   "nbconvert_exporter": "python",
   "pygments_lexer": "ipython3",
   "version": "3.7.6"
  }
 },
 "nbformat": 4,
 "nbformat_minor": 4
}
